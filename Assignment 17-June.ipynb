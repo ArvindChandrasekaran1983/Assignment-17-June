{
 "cells": [
  {
   "cell_type": "markdown",
   "id": "a1faa54c",
   "metadata": {},
   "source": [
    "### Q 1. What is the role of try and exception block?\n",
    "\n",
    "Ans: Try and exception block is used for Error handling and Exception Handling. It allows us to write a code that can generate errors or exceptions and a way to handle those exceptions preventing the program from crashing."
   ]
  },
  {
   "cell_type": "markdown",
   "id": "72044dd6",
   "metadata": {},
   "source": [
    "### Q 2. What is the syntax for a basic try-except block?"
   ]
  },
  {
   "cell_type": "code",
   "execution_count": null,
   "id": "621d0bed",
   "metadata": {},
   "outputs": [],
   "source": [
    "try:\n",
    "    # Code that may raise an exception\n",
    "    # ...\n",
    "except ExceptionType:\n",
    "    # Code to handle the exception\n",
    "    # ..."
   ]
  },
  {
   "cell_type": "markdown",
   "id": "1eeceb58",
   "metadata": {},
   "source": [
    "### Q 3. What happens if an exception occurs inside a try block and there is no matching except block?\n",
    "\n",
    "Ans: If an exception occurs inside a try block and there is no matching except block then the program will terminate with the error message. The example and the error is given in the line 11"
   ]
  },
  {
   "cell_type": "code",
   "execution_count": 13,
   "id": "cfa648fc",
   "metadata": {},
   "outputs": [
    {
     "ename": "ZeroDivisionError",
     "evalue": "division by zero",
     "output_type": "error",
     "traceback": [
      "\u001b[1;31m---------------------------------------------------------------------------\u001b[0m",
      "\u001b[1;31mZeroDivisionError\u001b[0m                         Traceback (most recent call last)",
      "Input \u001b[1;32mIn [13]\u001b[0m, in \u001b[0;36m<cell line: 3>\u001b[1;34m()\u001b[0m\n\u001b[0;32m      1\u001b[0m \u001b[38;5;66;03m## Example to show if an exception has occured in the Try blockand there is no matching except block\u001b[39;00m\n\u001b[0;32m      3\u001b[0m \u001b[38;5;28;01mtry\u001b[39;00m:\n\u001b[0;32m      4\u001b[0m     \u001b[38;5;66;03m# Some code that might raise an exception\u001b[39;00m\n\u001b[1;32m----> 5\u001b[0m     result \u001b[38;5;241m=\u001b[39m \u001b[38;5;241;43m10\u001b[39;49m\u001b[43m \u001b[49m\u001b[38;5;241;43m/\u001b[39;49m\u001b[43m \u001b[49m\u001b[38;5;241;43m0\u001b[39;49m  \u001b[38;5;66;03m# Raises a ZeroDivisionError\u001b[39;00m\n\u001b[0;32m      6\u001b[0m \u001b[38;5;28;01mexcept\u001b[39;00m \u001b[38;5;167;01mValueError\u001b[39;00m:\n\u001b[0;32m      7\u001b[0m     \u001b[38;5;66;03m# This except block will not handle ZeroDivisionError\u001b[39;00m\n\u001b[0;32m      8\u001b[0m     \u001b[38;5;28mprint\u001b[39m(\u001b[38;5;124m\"\u001b[39m\u001b[38;5;124mHandling ValueError\u001b[39m\u001b[38;5;124m\"\u001b[39m)\n",
      "\u001b[1;31mZeroDivisionError\u001b[0m: division by zero"
     ]
    }
   ],
   "source": [
    "## Example to show if an exception has occured in the Try blockand there is no matching except block\n",
    "\n",
    "try:\n",
    "    # Some code that might raise an exception\n",
    "    result = 10 / 0  # Raises a ZeroDivisionError\n",
    "except ValueError:\n",
    "    # This except block will not handle ZeroDivisionError\n",
    "    print(\"Handling ValueError\")"
   ]
  },
  {
   "cell_type": "markdown",
   "id": "3f734c14",
   "metadata": {},
   "source": [
    "### Q 4. What is the difference between using a bare except block and specifying a specific exception type?\n",
    "\n",
    "1. A Bare Except block catching all the exceptions irrespective of their specific types. It is written as \n",
    "   except: without specifying any exception type.\n",
    "2. When we specify a specific exception type then the except block will catch only the exception of that type. It is written as except ValueError: or except IndentationError "
   ]
  },
  {
   "cell_type": "markdown",
   "id": "63af0f72",
   "metadata": {},
   "source": [
    "### Q 5. Can you have nested try-except blocks in Python? If yes, then give an example.\n",
    "\n",
    "Yes, we can have nexted try-except blocks. Example is given in the next line"
   ]
  },
  {
   "cell_type": "code",
   "execution_count": null,
   "id": "86b9c94a",
   "metadata": {},
   "outputs": [],
   "source": [
    "try:\n",
    "    # Outer try block\n",
    "    # Code that may raise an exception\n",
    "    try:\n",
    "        # Inner try block\n",
    "        # Code that may raise an exception\n",
    "        # ...\n",
    "        pass\n",
    "    except ExceptionType2:\n",
    "        # Exception handling for ExceptionType2 in the inner try block\n",
    "        # ...\n",
    "        pass\n",
    "    except ExceptionType3:\n",
    "        # Exception handling for ExceptionType3 in the inner try block\n",
    "        # ...\n",
    "        pass\n",
    "    finally:\n",
    "        # Optional: Code that will always run in the inner try block,\n",
    "        # regardless of whether an exception occurred or not\n",
    "        # ...\n",
    "        pass"
   ]
  },
  {
   "cell_type": "markdown",
   "id": "6edea3f4",
   "metadata": {},
   "source": [
    "### Q 6. Can we use multiple exception blocks, if yes then give an example.\n",
    "\n",
    "Yes, we can use multiple exception blocks. Example is given in the next Line."
   ]
  },
  {
   "cell_type": "code",
   "execution_count": null,
   "id": "2fd113a5",
   "metadata": {},
   "outputs": [],
   "source": [
    "## Example of using Multiple Exception Blocks\n",
    "\n",
    "try:\n",
    "    \n",
    "    num1 = int(input(\"Enter a number: \"))\n",
    "    num2 = int(input(\"Enter another number: \"))\n",
    "    result = num1 / num2\n",
    "\n",
    "except ValueError:\n",
    "    print(\"Invalid input. Please enter a valid number.\")\n",
    "except ZeroDivisionError:\n",
    "    print(\"Cannot divide by zero.\")\n",
    "except TypeError:\n",
    "    print(\" Wrong Data type. Instead of integer you have provided a String\")\n"
   ]
  },
  {
   "cell_type": "markdown",
   "id": "1082db4f",
   "metadata": {},
   "source": [
    "### Q 7. Write the reason due to which following errors are raised:\n",
    "\n",
    "    a. EOFError--- Raised when the input() function hits an end-of-file condition (EOF).\n",
    "    b. FloatingPointError --- Raised when a floating point operation fails.\n",
    "    c. IndexError---Raised when a sequence subscript (index) is out of range.\n",
    "    d. MemoryError---Raised when an operation runs out of memory.\n",
    "    e. OverflowError---Raised when the result of an arithmetic operation is too large to be expressed.\n",
    "    f. TabError---Raised when indentation contains mixed tabs and spaces.\n",
    "    g. ValueError---Raised when a built-in operation or function receives an argument that has the right type but an inappropriate value."
   ]
  },
  {
   "cell_type": "markdown",
   "id": "44645f38",
   "metadata": {},
   "source": [
    "# Write code for the following given scenario and add try-exception block to it."
   ]
  },
  {
   "cell_type": "code",
   "execution_count": 23,
   "id": "77c45b19",
   "metadata": {},
   "outputs": [
    {
     "name": "stdout",
     "output_type": "stream",
     "text": [
      " The number cannot be divided by 0\n"
     ]
    }
   ],
   "source": [
    "## 1.  Program to Divide Two Numbers Using Lambda Function with try and except block\n",
    "\n",
    "try:\n",
    "    lambda x,y: x/y\n",
    "    \n",
    "    x=1\n",
    "    y=0\n",
    "    result=x/y\n",
    "except ZeroDivisionError:\n",
    "    print(\" The number cannot be divided by 0\")"
   ]
  },
  {
   "cell_type": "code",
   "execution_count": null,
   "id": "a27b3f1c",
   "metadata": {},
   "outputs": [],
   "source": [
    "## 2. Program to convert a string to an integer with try and except block\n",
    "\n",
    "def convert_to_integer(string):\n",
    "    try:\n",
    "        integer_value = int(string)\n",
    "        return integer_value\n",
    "    except ValueError:\n",
    "        print(\"Error: The input cannot be converted to an integer.\")\n",
    "        return None\n",
    "\n",
    "# Example usage\n",
    "string_input = input(\"Enter a string to convert to an integer: \")\n",
    "result = convert_to_integer(string_input)\n",
    "\n",
    "if result is not None:\n",
    "    print(\"The converted integer is:\", result)"
   ]
  },
  {
   "cell_type": "code",
   "execution_count": null,
   "id": "790b84d5",
   "metadata": {},
   "outputs": [],
   "source": [
    "## 3. Program to access an element in a list with try and except block\n",
    "\n",
    "my_list = [1, 2, 3, 4, 5]\n",
    "\n",
    "try:\n",
    "    index = int(input(\"Enter the index of the element you want to access: \"))\n",
    "    element = my_list[index]\n",
    "    print(\"Element at index\", index, \"is\", element)\n",
    "except IndexError:\n",
    "    print(\"Invalid index. The list does not have an element at the specified index.\")\n",
    "except ValueError:\n",
    "    print(\"Invalid input. Please enter a valid integer index.\")"
   ]
  },
  {
   "cell_type": "code",
   "execution_count": null,
   "id": "91c024ee",
   "metadata": {},
   "outputs": [],
   "source": [
    "## 4. Program to handle a specific exception\n",
    "\n",
    "try:\n",
    "    # Code that may raise an exception\n",
    "    # ...\n",
    "    raise ValueError(\"This is a specific exception.\")\n",
    "    # ...\n",
    "except ValueError as e:\n",
    "    # Exception handling for ValueError\n",
    "    print(\"Caught ValueError:\", str(e))"
   ]
  },
  {
   "cell_type": "code",
   "execution_count": null,
   "id": "05e54574",
   "metadata": {},
   "outputs": [],
   "source": [
    "## 5. Program to handle a any exception\n",
    "\n",
    "try:\n",
    "    # Code that may raise an exception\n",
    "    # ...\n",
    "    # ...\n",
    "    # ...\n",
    "except Exception as e:\n",
    "    # Exception handling code\n",
    "    print(\"An exception occurred:\", str(e))\n",
    "    # Additional error handling logic if needed"
   ]
  }
 ],
 "metadata": {
  "kernelspec": {
   "display_name": "Python 3 (ipykernel)",
   "language": "python",
   "name": "python3"
  },
  "language_info": {
   "codemirror_mode": {
    "name": "ipython",
    "version": 3
   },
   "file_extension": ".py",
   "mimetype": "text/x-python",
   "name": "python",
   "nbconvert_exporter": "python",
   "pygments_lexer": "ipython3",
   "version": "3.9.12"
  }
 },
 "nbformat": 4,
 "nbformat_minor": 5
}
